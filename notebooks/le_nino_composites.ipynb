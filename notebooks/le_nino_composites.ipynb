{
 "metadata": {
  "name": "",
  "signature": "sha256:6e750722865fd13843f14a7d89792bf2d8323e41e2aff75018d520642c5e630e"
 },
 "nbformat": 3,
 "nbformat_minor": 0,
 "worksheets": [
  {
   "cells": [
    {
     "cell_type": "markdown",
     "metadata": {},
     "source": [
      "Calculate Nino 3.4 for LE (then composite on it later...)\n"
     ]
    },
    {
     "cell_type": "code",
     "collapsed": false,
     "input": [
      "\n",
      "# 1. get SST, 2. area average 3. detrend (?) 4. remove seasonal cycle 5. normalize\n",
      "\n",
      "# de-seasoned, then area averaged, then normalized. Prob can area average first.\n"
     ],
     "language": "python",
     "metadata": {},
     "outputs": []
    }
   ],
   "metadata": {}
  }
 ]
}