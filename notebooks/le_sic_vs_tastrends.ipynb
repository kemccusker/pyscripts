{
 "cells": [
  {
   "cell_type": "code",
   "execution_count": 19,
   "metadata": {
    "collapsed": false
   },
   "outputs": [],
   "source": [
    "import loadLE as le\n",
    "import cccmautils as cutl\n",
    "\n",
    "%matplotlib inline\n",
    "\n",
    "\n",
    "field = 'sic'; ncfield='sic'; comp='OImon'; conv=1; region='bksmori'\n",
    "fieldtas = 'tas'; ncfieldtas='tas'; comptas='Amon'; convtas=1; regiontas='eurasiamori'\n",
    "timeselc = '1979-01-01,1989-12-31'\n",
    "timeselp = '2002-01-01,2012-12-31'\n",
    "timesel = '1979-01-01,2012-12-31' # for trend\n",
    "\n",
    "sea='DJF'\n",
    "\n",
    "local = True"
   ]
  },
  {
   "cell_type": "code",
   "execution_count": 2,
   "metadata": {
    "collapsed": false
   },
   "outputs": [],
   "source": [
    "def load_field(fdict,casename,timesel,seas=None,mo=0,ftype='fullts',orig=None,calc=None,conv=1,local=False,verb=False):\n",
    "    \n",
    "    \"\"\" TAKEN FROM load_field() in canesm_le_composite.py/pi_pdf_uncertainty.py\n",
    "\n",
    "        returns [numens x space.flat] or [numens]\n",
    "\n",
    "    \"\"\"\n",
    "\n",
    "    ledat = le.load_LEdata(fdict,casename,timesel=timesel, \n",
    "                           rettype='ndarray',conv=conv,ftype=ftype,orig=orig,local=local,verb=verb)\n",
    "\n",
    "    # time needs to be first dimension\n",
    "    try:\n",
    "        if ledat.ndim==2:\n",
    "            ledat = ledat.T\n",
    "        elif ledat.ndim==3:\n",
    "            ledat = np.transpose(ledat,(1,0,2))\n",
    "        else:\n",
    "            print 'Loaded data is not 2 or 3 dimensions. Do not understand.'\n",
    "            raise Exception\n",
    "    except:\n",
    "        raise\n",
    "\n",
    "    if seas==None and mo==0:\n",
    "        lesea=ledat        \n",
    "    else:\n",
    "    \n",
    "        lesea = cutl.seasonalize(ledat,season=seas,mo=mo) # time x numens x space.flat\n",
    "\n",
    "    if calc!=None and calc=='trend':\n",
    "        \n",
    "        mm,bb=cutl.trend_monthly(lesea) # should return 12 x numens x space.flat\n",
    "        return lesea,mm,bb\n",
    "    else:\n",
    "    \n",
    "        return lesea\n",
    "\n",
    "\n"
   ]
  },
  {
   "cell_type": "code",
   "execution_count": 9,
   "metadata": {
    "collapsed": false
   },
   "outputs": [
    {
     "name": "stdout",
     "output_type": "stream",
     "text": [
      "(50, 132)\n",
      "(50, 132)\n",
      "(50, 132)\n",
      "(50, 132)\n",
      "(50, 132)\n",
      "(50, 132)\n",
      "(50, 132)\n",
      "(50, 132)\n"
     ]
    }
   ],
   "source": [
    "fdict = {'field': field+region, 'ncfield': ncfield, 'comp': comp}\n",
    "\n",
    "# load SIA\n",
    "lerawc = load_field(fdict, 'historical', timeselc,seas=sea, verb=False,\n",
    "                    ftype='fullts', orig=None,conv=conv,local=local)\n",
    "lerawp = load_field(fdict, 'historical', timeselp,seas=sea, verb=False,\n",
    "                    ftype='fullts', orig=None,conv=conv,local=local)\n",
    "\n",
    "\n",
    "fdicttas = {'field': fieldtas+regiontas, 'ncfield': ncfieldtas, 'comp': comptas}\n",
    "\n",
    "# load SAT\n",
    "lerawtasc = load_field(fdicttas, 'historical', timeselc,seas=sea, verb=False,\n",
    "                    ftype='fullts', orig=None,conv=conv,local=local)\n",
    "lerawtasp = load_field(fdicttas, 'historical', timeselp,seas=sea, verb=False,\n",
    "                    ftype='fullts', orig=None,conv=conv,local=local)\n"
   ]
  },
  {
   "cell_type": "code",
   "execution_count": 15,
   "metadata": {
    "collapsed": false
   },
   "outputs": [],
   "source": [
    "lesic = lerawp.mean(axis=0) - lerawc.mean(axis=0)\n",
    "letas = lerawtasp.mean(axis=0) - lerawtasc.mean(axis=0)\n",
    "\n",
    "letasstd = (lerawtasp - lerawtasc).std(axis=0)\n",
    "\n",
    "lemat = np.array((lesic,letas))"
   ]
  },
  {
   "cell_type": "code",
   "execution_count": 58,
   "metadata": {
    "collapsed": false
   },
   "outputs": [
    {
     "name": "stdout",
     "output_type": "stream",
     "text": [
      "(50,)\n",
      "regress pval,rval: 0.0725112579475 -0.256200250506\n"
     ]
    },
    {
     "data": {
      "image/png": "[encoded data removed]",
      "text/plain": [
       "<matplotlib.figure.Figure at 0x2b3f50641850>"
      ]
     },
     "metadata": {},
     "output_type": "display_data"
    }
   ],
   "source": [
    "cutl=reload(cutl)\n",
    "cplt=reload(cplt)\n",
    "\n",
    "lemat.shape\n",
    "\n",
    "yy,bined = np.histogram(lemat[0,...])\n",
    "\n",
    "print letasstd.shape\n",
    "\n",
    "plt.figure()\n",
    "plt.scatter(lesic,letasstd)\n",
    "plt.ylabel('sigma in time of EUR SAT anomalies')\n",
    "plt.xlabel('BKS SIC anomalies')\n",
    "cplt.add_regressline(lesic,letasstd)"
   ]
  },
  {
   "cell_type": "code",
   "execution_count": 26,
   "metadata": {
    "collapsed": false
   },
   "outputs": [
    {
     "name": "stdout",
     "output_type": "stream",
     "text": [
      "(50, 408)\n",
      "(50, 408)\n",
      "(50, 408)\n",
      "(50, 408)\n"
     ]
    }
   ],
   "source": [
    "indices = [0,1,11]\n",
    "wgts = np.array([31, 31, 28])/np.float(np.array([31, 31, 28]).sum())\n",
    "\n",
    "fdict = {'field': field+region, 'ncfield': ncfield, 'comp': comp}\n",
    "\n",
    "# load SIA\n",
    "lerawtr,mm,bb = load_field(fdict, 'historical', timesel,calc='trend',verb=False,\n",
    "                    ftype='fullts', orig=None,conv=conv,local=local)\n",
    "\n",
    "\n",
    "fdicttas = {'field': fieldtas+regiontas, 'ncfield': ncfieldtas, 'comp': comptas}\n",
    "\n",
    "# load SAT\n",
    "lerawtastr,mmtas,bbtas = load_field(fdicttas, 'historical', timesel,calc='trend',verb=False,\n",
    "                    ftype='fullts', orig=None,conv=conv,local=local)\n",
    "\n",
    "\n",
    "mmsea = np.average(mm[indices,:], axis=0,weights=wgts)\n",
    "mmtassea = np.average(mmtas[indices,:], axis=0,weights=wgts)\n",
    "\n",
    "lerawsea = cutl.seasonalize(lerawtr,season='DJF')\n",
    "lerawtassea = cutl.seasonalize(lerawtastr,season='DJF')\n"
   ]
  },
  {
   "cell_type": "code",
   "execution_count": 60,
   "metadata": {
    "collapsed": false
   },
   "outputs": [
    {
     "name": "stdout",
     "output_type": "stream",
     "text": [
      "regress pval,rval: 0.698652809774 -0.0561262169812\n",
      "regress pval,rval: 0.114851333216 -0.225807670374\n"
     ]
    },
    {
     "data": {
      "image/png": "[encoded data removed]",
      "text/plain": [
       "<matplotlib.figure.Figure at 0x2b3f5069dfd0>"
      ]
     },
     "metadata": {},
     "output_type": "display_data"
    },
    {
     "data": {
      "image/png": "[encoded data removed]",
      "text/plain": [
       "<matplotlib.figure.Figure at 0x2b3f506b4210>"
      ]
     },
     "metadata": {},
     "output_type": "display_data"
    }
   ],
   "source": [
    "import numpy.ma as ma\n",
    "\n",
    "plt.figure()\n",
    "plt.scatter(mmsea,mmtassea)\n",
    "plt.ylabel('EUR SAT trends')\n",
    "plt.xlabel('BKS SIC trends')\n",
    "cplt.add_regressline(mmsea,mmtassea)\n",
    "\n",
    "yy,bined = np.histogram(mmsea)\n",
    "\n",
    "mmseam = mmsea\n",
    "spreads=np.zeros(len(bined)-1)\n",
    "tasspreads=np.zeros(len(bined)-1)\n",
    "for bii in np.arange(0,len(bined)-1):\n",
    "    \n",
    "    # get index of SIC w/in bin:\n",
    "    # calc spread within a bin by masking out everything else\n",
    "    mmseam = ma.masked_outside(mmsea,bined[bii], bined[bii+1])\n",
    "    mmtasseam = ma.masked_where(mmseam.mask,mmtassea)\n",
    "    spreads[bii] = mmseam.std()\n",
    "    tasspreads[bii] = mmtasseam.std()\n",
    "    \n",
    "    \n",
    "    \n",
    "lerawsea = cutl.seasonalize(lerawtr,season='DJF')\n",
    "lerawtassea = cutl.seasonalize(lerawtastr,season='DJF')\n",
    "\n",
    "# compute sigma of SAT in time for each SIC trend\n",
    "lesig = lerawsea.std(axis=0)\n",
    "letassig = lerawtassea.std(axis=0)\n",
    "\n",
    "plt.figure()\n",
    "plt.scatter(mmsea,letassig)\n",
    "plt.ylabel('EUR SAT $\\sigma$ in time')\n",
    "plt.xlabel('BKS SIC trends')\n",
    "cplt.add_regressline(mmsea,letassig)"
   ]
  },
  {
   "cell_type": "code",
   "execution_count": 49,
   "metadata": {
    "collapsed": false
   },
   "outputs": [
    {
     "data": {
      "image/png": "[encoded data removed]",
      "text/plain": [
       "<matplotlib.figure.Figure at 0x2b3f506568d0>"
      ]
     },
     "metadata": {},
     "output_type": "display_data"
    }
   ],
   "source": [
    "plt.figure()\n",
    "plt.plot((bined[0:-1]+bined[1:])/2,tasspreads, linestyle='none',marker='s')\n",
    "plt.ylabel('Eurasian SAT $\\sigma$ of trend mags')\n",
    "plt.xlabel('BKS SIC trend')\n",
    "for be in bined:\n",
    "    plt.axvline(be,color='0.5',linestyle=':')"
   ]
  },
  {
   "cell_type": "code",
   "execution_count": 52,
   "metadata": {
    "collapsed": false
   },
   "outputs": [
    {
     "data": {
      "text/plain": [
       "(408, 50)"
      ]
     },
     "execution_count": 52,
     "metadata": {},
     "output_type": "execute_result"
    }
   ],
   "source": [
    "lerawtr.shape"
   ]
  }
 ],
 "metadata": {
  "kernelspec": {
   "display_name": "Python 2",
   "language": "python",
   "name": "python2"
  },
  "language_info": {
   "codemirror_mode": {
    "name": "ipython",
    "version": 2
   },
   "file_extension": ".py",
   "mimetype": "text/x-python",
   "name": "python",
   "nbconvert_exporter": "python",
   "pygments_lexer": "ipython2",
   "version": "2.7.13"
  }
 },
 "nbformat": 4,
 "nbformat_minor": 0
}
